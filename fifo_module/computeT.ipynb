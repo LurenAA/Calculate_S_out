{
 "cells": [
  {
   "cell_type": "code",
   "execution_count": 24,
   "metadata": {},
   "outputs": [
    {
     "data": {
      "text/plain": [
       "{t_rti: 4.40751224333917e-7, t_sw: 5.68441389225862e-8}"
      ]
     },
     "execution_count": 24,
     "metadata": {},
     "output_type": "execute_result"
    }
   ],
   "source": [
    "import sympy\n",
    "import math\n",
    "\n",
    "def cal_t(n_seq, n_fifo, s_out):\n",
    "    t_refi = 3.9e-6\n",
    "    s_in = 12.8e9/64\n",
    "    n_fifo = n_fifo + 52\n",
    "    t_rti, t_sw = sympy.symbols(\"t_rti t_sw\")\n",
    "    f1 = (2* t_sw * s_out + t_sw * s_in + t_rti * s_out) - n_fifo\n",
    "    # (t_refi-t_rti-x*t_sw)/t_refi*s_in - s_out = 0\n",
    "    # t_refi-t_rti-x*t_sw = s_out / s_in * t_refi\n",
    "    # t_refi-t_rti - s_out / s_in * t_refi = x*t_sw\n",
    "    k_n = (t_refi-t_rti - s_out / s_in * t_refi) / t_sw\n",
    "    f2 = (t_refi/k_n - t_rti/k_n - t_sw) * s_in - n_seq\n",
    "    res = sympy.solve([f1,f2], [t_rti, t_sw])\n",
    "    return res\n",
    "\n",
    "cal_t(84, 46, 10e9/64)"
   ]
  },
  {
   "cell_type": "code",
   "execution_count": 25,
   "metadata": {},
   "outputs": [
    {
     "data": {
      "text/plain": [
       "{t_rti: 4.56263485111721e-7, t_sw: 5.38340950120846e-8}"
      ]
     },
     "execution_count": 25,
     "metadata": {},
     "output_type": "execute_result"
    }
   ],
   "source": [
    "cal_t(76, 46 , 9.9e9/64)"
   ]
  },
  {
   "cell_type": "code",
   "execution_count": 26,
   "metadata": {},
   "outputs": [
    {
     "data": {
      "text/plain": [
       "{t_rti: 4.49465002229157e-7, t_sw: 5.36803388319215e-8}"
      ]
     },
     "execution_count": 26,
     "metadata": {},
     "output_type": "execute_result"
    }
   ],
   "source": [
    "cal_t(69,44 ,9.8e9/64)"
   ]
  },
  {
   "cell_type": "code",
   "execution_count": 32,
   "metadata": {},
   "outputs": [
    {
     "data": {
      "text/plain": [
       "{t_rti: 4.19828002006908e-7, t_sw: 6.03623720662421e-8}"
      ]
     },
     "execution_count": 32,
     "metadata": {},
     "output_type": "execute_result"
    }
   ],
   "source": [
    "cal_t(68, 42 , 9.7e9/64)"
   ]
  },
  {
   "cell_type": "code",
   "execution_count": 33,
   "metadata": {},
   "outputs": [
    {
     "data": {
      "text/plain": [
       "{t_rti: 6.68571428571429e-7, t_sw: 3.14285714285714e-8}"
      ]
     },
     "execution_count": 33,
     "metadata": {},
     "output_type": "execute_result"
    }
   ],
   "source": [
    "cal_t(60, 64, 9.6e9/64)"
   ]
  },
  {
   "cell_type": "code",
   "execution_count": 28,
   "metadata": {},
   "outputs": [
    {
     "data": {
      "text/plain": [
       "{t_rti: 4.14901919839209e-7, t_sw: 6.12085459599849e-8}"
      ]
     },
     "execution_count": 28,
     "metadata": {},
     "output_type": "execute_result"
    }
   ],
   "source": [
    "cal_t(60, 40 , 9.5e9/64)"
   ]
  },
  {
   "cell_type": "code",
   "execution_count": 29,
   "metadata": {},
   "outputs": [
    {
     "data": {
      "text/plain": [
       "{t_rti: 4.71948984918485e-7, t_sw: 5.80911247394381e-8}"
      ]
     },
     "execution_count": 29,
     "metadata": {},
     "output_type": "execute_result"
    }
   ],
   "source": [
    "cal_t(59, 46 , 9.4e9/64)"
   ]
  },
  {
   "cell_type": "code",
   "execution_count": 30,
   "metadata": {},
   "outputs": [
    {
     "data": {
      "text/plain": [
       "{t_rti: 4.38633952402756e-7, t_sw: 5.76020459444066e-8}"
      ]
     },
     "execution_count": 30,
     "metadata": {},
     "output_type": "execute_result"
    }
   ],
   "source": [
    "cal_t(52, 40, 9.3e9/64)"
   ]
  },
  {
   "cell_type": "code",
   "execution_count": 39,
   "metadata": {},
   "outputs": [
    {
     "name": "stdout",
     "output_type": "stream",
     "text": [
      "5.000000 GSa/s: t_rti1: 414.000000 ns, t_rti2: 381.584821 ns\n",
      "4.950000 GSa/s: t_rti1: 419.494949 ns, t_rti2: 367.629523 ns\n",
      "4.900000 GSa/s: t_rti1: 412.040816 ns, t_rti2: 351.494565 ns\n",
      "4.850000 GSa/s: t_rti1: 417.628866 ns, t_rti2: 379.515165 ns\n",
      "4.750000 GSa/s: t_rti1: 402.210526 ns, t_rti2: 378.320312 ns\n",
      "4.700000 GSa/s: t_rti1: 448.723404 ns, t_rti2: 404.872881 ns\n",
      "4.650000 GSa/s: t_rti1: 413.655914 ns, t_rti2: 358.007812 ns\n",
      "4.600000 GSa/s: t_rti1: 405.652174 ns, t_rti2: 396.093750 ns\n",
      "4.550000 GSa/s: t_rti1: 411.538462 ns, t_rti2: 326.354167 ns\n"
     ]
    }
   ],
   "source": [
    "import sympy\n",
    "import math\n",
    "\n",
    "t_refi = 3.9e-6\n",
    "s_in = 12.8e9/64\n",
    "t_sw = 65e-9\n",
    "t_rti = sympy.symbols(\"t_rti\")\n",
    "\n",
    "def cal_f1(n_fifo, s_out):\n",
    "    n_fifo = n_fifo + 52\n",
    "    t_rti = sympy.symbols(\"t_rti\")\n",
    "    f1 = (2* t_sw * s_out + t_sw * s_in + t_rti * s_out) - n_fifo\n",
    "    res = sympy.solve(f1, t_rti)\n",
    "    return res[0]\n",
    "\n",
    "def cal_f2(n_seq, n_fifo, s_out):\n",
    "    n_fifo = n_fifo + 52\n",
    "    t_rti = sympy.symbols(\"t_rti\")\n",
    "    k_n = (t_refi-t_rti - s_out / s_in * t_refi) / t_sw\n",
    "    f2 = (t_refi/k_n - t_rti/k_n - t_sw) * s_in - n_seq\n",
    "    res = sympy.solve(f2, t_rti)\n",
    "    return res[0]\n",
    "\n",
    "# n_seq, n_fifo(x + 52/60)\n",
    "dict = {\n",
    "    5:[84, 46],      # 98 106\n",
    "    4.95: [76, 46],  # 98 106\n",
    "    4.9: [69, 44],   # 96 104\n",
    "    4.85: [68, 44],  # 96 104\n",
    "    # 4.8: [60],\n",
    "    4.75: [60, 40],  # 92 100\n",
    "    4.7:[59, 46],    # 98 106\n",
    "    4.65:[52, 40],   # 92 100\n",
    "    4.6: [52, 38],   # 90 98\n",
    "    4.55: [45, 38]   # 90 98\n",
    "}\n",
    "\n",
    "for o, a in dict.items():\n",
    "    if len(a) == 1:\n",
    "        continue\n",
    "    s_out = (o* 2)*1e9/64\n",
    "    t_rti1 = cal_f1(a[1], s_out)\n",
    "    t_rti2 = cal_f2(a[0], a[1], s_out)\n",
    "    print(\"%f GSa/s: t_rti1: %f ns, t_rti2: %f ns\" %(o, t_rti1 * 1e9, t_rti2 * 1e9))"
   ]
  }
 ],
 "metadata": {
  "kernelspec": {
   "display_name": "Python 3.8.2 64-bit",
   "language": "python",
   "name": "python3"
  },
  "language_info": {
   "codemirror_mode": {
    "name": "ipython",
    "version": 3
   },
   "file_extension": ".py",
   "mimetype": "text/x-python",
   "name": "python",
   "nbconvert_exporter": "python",
   "pygments_lexer": "ipython3",
   "version": "3.8.2"
  },
  "orig_nbformat": 4,
  "vscode": {
   "interpreter": {
    "hash": "b901d48f394b85714db0b74d0901bd9ca776a4d1566350e73eaefaec840d839f"
   }
  }
 },
 "nbformat": 4,
 "nbformat_minor": 2
}
