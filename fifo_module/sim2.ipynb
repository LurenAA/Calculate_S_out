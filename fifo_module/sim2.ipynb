{
 "cells": [
  {
   "cell_type": "code",
   "execution_count": 7,
   "metadata": {},
   "outputs": [
    {
     "data": {
      "text/plain": [
       "7.1810344827586166"
      ]
     },
     "execution_count": 7,
     "metadata": {},
     "output_type": "execute_result"
    }
   ],
   "source": [
    "import math\n",
    "\n",
    "tsw_min = 37.5 * 1e-9\n",
    "tsw_max = 107.5 * 1e-9\n",
    "tsw_avr = 72.5 * 1e-9\n",
    "trti_min = 297.5 * 1e-9\n",
    "trti_max = 367.5 * 1e-9\n",
    "trti_avr = 332.5 * 1e-9\n",
    "trefi = 3900 * 1e-9\n",
    "sin_max = 1.28 * 1e10 / 64\n",
    "\n",
    "sout = 5 * 1e9 * 2 / 64\n",
    "# sout = 4.95 * 1e9 * 2 / 64\n",
    "# sout = 4.9 * 1e9 * 2 / 64\n",
    "# sout = 4.85 * 1e9 * 2 / 64\n",
    "# sout = 4.8 * 1e9 * 2 / 64\n",
    "# sout = 4.75 * 1e9 * 2 / 64\n",
    "# sout = 4.7 * 1e9 * 2 / 64\n",
    "\n",
    "kn = (trefi - trti_avr - sout/sin_max * trefi) / tsw_avr\n",
    "kn"
   ]
  },
  {
   "cell_type": "code",
   "execution_count": 8,
   "metadata": {},
   "outputs": [
    {
     "data": {
      "text/plain": [
       "85"
      ]
     },
     "execution_count": 8,
     "metadata": {},
     "output_type": "execute_result"
    }
   ],
   "source": [
    "nseq_min = math.ceil((trefi - trti_avr - kn * tsw_avr) / kn * sin_max)\n",
    "nseq_min "
   ]
  },
  {
   "cell_type": "code",
   "execution_count": 9,
   "metadata": {},
   "outputs": [
    {
     "data": {
      "text/plain": [
       "113"
      ]
     },
     "execution_count": 9,
     "metadata": {},
     "output_type": "execute_result"
    }
   ],
   "source": [
    "import math\n",
    "\n",
    "nFifo = math.ceil(2*tsw_max*sout + trti_max * sout + tsw_max * sin_max)\n",
    "nFifo"
   ]
  },
  {
   "cell_type": "code",
   "execution_count": 10,
   "metadata": {},
   "outputs": [
    {
     "data": {
      "text/plain": [
       "90"
      ]
     },
     "execution_count": 10,
     "metadata": {},
     "output_type": "execute_result"
    }
   ],
   "source": [
    "math.ceil(2*tsw_avr*sout + trti_avr * sout + tsw_avr * sin_max)"
   ]
  },
  {
   "cell_type": "code",
   "execution_count": 11,
   "metadata": {},
   "outputs": [
    {
     "data": {
      "text/plain": [
       "5e-09"
      ]
     },
     "execution_count": 11,
     "metadata": {},
     "output_type": "execute_result"
    }
   ],
   "source": [
    "fifo_in_interval = 1 / sin_max\n",
    "fifo_in_interval"
   ]
  },
  {
   "cell_type": "code",
   "execution_count": 12,
   "metadata": {},
   "outputs": [
    {
     "data": {
      "text/plain": [
       "6.4e-09"
      ]
     },
     "execution_count": 12,
     "metadata": {},
     "output_type": "execute_result"
    }
   ],
   "source": [
    "fifo_out_interval = 1 / sout\n",
    "fifo_out_interval"
   ]
  },
  {
   "cell_type": "code",
   "execution_count": 21,
   "metadata": {},
   "outputs": [
    {
     "ename": "FifoEmpty",
     "evalue": "",
     "output_type": "error",
     "traceback": [
      "\u001b[1;31m---------------------------------------------------------------------------\u001b[0m",
      "\u001b[1;31mFifoEmpty\u001b[0m                                 Traceback (most recent call last)",
      "Cell \u001b[1;32mIn[21], line 31\u001b[0m\n\u001b[0;32m     28\u001b[0m         clock\u001b[39m.\u001b[39mset_sw()\n\u001b[0;32m     30\u001b[0m \u001b[39mif\u001b[39;00m fout:\n\u001b[1;32m---> 31\u001b[0m     fifo\u001b[39m.\u001b[39;49msend_out()\n\u001b[0;32m     33\u001b[0m cur_fifo_n \u001b[39m=\u001b[39m fifo\u001b[39m.\u001b[39mget_n_64byte_fifo_current()\n\u001b[0;32m     34\u001b[0m t_in_refi \u001b[39m=\u001b[39m clock\u001b[39m.\u001b[39mget_current_t_in_refi()\n",
      "File \u001b[1;32md:\\BaiduSyncdisk\\CAT315\\Calculate_S_out\\fifo_module\\fifo.py:16\u001b[0m, in \u001b[0;36mFifo.send_out\u001b[1;34m(self)\u001b[0m\n\u001b[0;32m     13\u001b[0m \u001b[39mself\u001b[39m\u001b[39m.\u001b[39m__n_64byte_fifo_current \u001b[39m-\u001b[39m\u001b[39m=\u001b[39m \u001b[39m1\u001b[39m\n\u001b[0;32m     15\u001b[0m \u001b[39mif\u001b[39;00m \u001b[39mself\u001b[39m\u001b[39m.\u001b[39m__n_64byte_fifo_current \u001b[39m<\u001b[39m \u001b[39m0\u001b[39m:\n\u001b[1;32m---> 16\u001b[0m     \u001b[39mraise\u001b[39;00m FifoEmpty\n",
      "\u001b[1;31mFifoEmpty\u001b[0m: "
     ]
    }
   ],
   "source": [
    "from sdram1 import Sdram1\n",
    "from fifo import Fifo\n",
    "from clock1 import Clock1\n",
    "import random\n",
    "\n",
    "tstart = random.uniform(0, trefi)\n",
    "ddr_sdram = Sdram1([nseq_min])\n",
    "fifo = Fifo(nFifo)\n",
    "clock = Clock1(fifo_in_interval, fifo_out_interval,\n",
    "               trefi, tsw_avr, trti_avr, tstart)\n",
    "\n",
    "with open(\"./TestFifoModule\", \"w\") as f:\n",
    "    print(\"tstart: %12.6fns\" %\n",
    "            (tstart * 1e9), file=f)\n",
    "\n",
    "    while(1):\n",
    "        clock.run()\n",
    "        fin = clock.fifo_in_finish()\n",
    "        ffull = fifo.is_full()\n",
    "        fout = clock.fifo_out_finish()\n",
    "        dsw = clock.is_sw()\n",
    "\n",
    "        if fin and (not ffull):\n",
    "            ddr_sdram.send_out()\n",
    "            fifo.receive_in()\n",
    "\n",
    "            if ddr_sdram.get_in_sw():\n",
    "                clock.set_sw()\n",
    "\n",
    "        if fout:\n",
    "            fifo.send_out()\n",
    "\n",
    "        cur_fifo_n = fifo.get_n_64byte_fifo_current()\n",
    "        t_in_refi = clock.get_current_t_in_refi()\n",
    "        cur_wfm_64byte = ddr_sdram.get_current_wfm_64byte()\n",
    "        in_rti = clock.is_rti()\n",
    "\n",
    "        # 打印信息\n",
    "        print(\"t: %12.6fns\" %\n",
    "            (t_in_refi * 1e9), end=\"\\t\", file=f)\n",
    "        print(\"fin: {:3}\\t fout: {:3}\\t dsw: {:3}\".format(\n",
    "            fin, fout, dsw), end=\"\\t\", file=f)\n",
    "        print(\"rti: {:3}\".format(in_rti), end=\"\\t\", file=f)\n",
    "        print(\n",
    "            \"fifo_n: {:5}\\t n_cycle: {:4}\\t wfm_64byte: {:5}\".\n",
    "            format(\n",
    "                cur_fifo_n, clock.get_current_cycle_num(),\n",
    "                cur_wfm_64byte),\n",
    "            file=f\n",
    "        )\n"
   ]
  }
 ],
 "metadata": {
  "kernelspec": {
   "display_name": "base",
   "language": "python",
   "name": "python3"
  },
  "language_info": {
   "codemirror_mode": {
    "name": "ipython",
    "version": 3
   },
   "file_extension": ".py",
   "mimetype": "text/x-python",
   "name": "python",
   "nbconvert_exporter": "python",
   "pygments_lexer": "ipython3",
   "version": "3.10.9"
  },
  "orig_nbformat": 4
 },
 "nbformat": 4,
 "nbformat_minor": 2
}
