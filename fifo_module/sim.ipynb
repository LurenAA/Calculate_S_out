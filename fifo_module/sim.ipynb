{
 "cells": [
  {
   "cell_type": "code",
   "execution_count": 1528,
   "metadata": {},
   "outputs": [
    {
     "data": {
      "text/plain": [
       "9.702586206896544"
      ]
     },
     "execution_count": 1528,
     "metadata": {},
     "output_type": "execute_result"
    }
   ],
   "source": [
    "import math\n",
    "\n",
    "tsw_min = 37.5 * 1e-9\n",
    "tsw_max = 107.5 * 1e-9\n",
    "tsw_avr = 72.5 * 1e-9\n",
    "trti_min = 297.5 * 1e-9\n",
    "trti_max = 367.5 * 1e-9\n",
    "trti_avr = 332.5 * 1e-9\n",
    "trefi = 3900 * 1e-9\n",
    "sin_max = 1.28 * 1e10 / 64\n",
    "# sout = 5 * 1e9 * 2 / 64\n",
    "# sout = 4.95 * 1e9 * 2 / 64\n",
    "# sout = 4.9 * 1e9 * 2 / 64\n",
    "# sout = 4.85 * 1e9 * 2 / 64\n",
    "# sout = 4.8 * 1e9 * 2 / 64\n",
    "# sout = 4.75 * 1e9 * 2 / 64\n",
    "sout = 4.7 * 1e9 * 2 / 64\n",
    "kn = (trefi - trti_avr - sout/sin_max * trefi) / tsw_avr\n",
    "kn\n"
   ]
  },
  {
   "cell_type": "code",
   "execution_count": 1529,
   "metadata": {},
   "outputs": [
    {
     "data": {
      "text/plain": [
       "60"
      ]
     },
     "execution_count": 1529,
     "metadata": {},
     "output_type": "execute_result"
    }
   ],
   "source": [
    "nseq_min = math.ceil((trefi - trti_avr - kn * tsw_avr) / kn * sin_max)\n",
    "nseq_min"
   ]
  },
  {
   "cell_type": "code",
   "execution_count": 1530,
   "metadata": {},
   "outputs": [
    {
     "data": {
      "text/plain": [
       "60"
      ]
     },
     "execution_count": 1530,
     "metadata": {},
     "output_type": "execute_result"
    }
   ],
   "source": [
    "nseq_s = math.ceil(tsw_max/ (trti_avr + kn * tsw_avr) * sout * trefi)\n",
    "nseq_s"
   ]
  },
  {
   "cell_type": "code",
   "execution_count": 1531,
   "metadata": {},
   "outputs": [
    {
     "data": {
      "text/plain": [
       "(2251, 232)"
      ]
     },
     "execution_count": 1531,
     "metadata": {},
     "output_type": "execute_result"
    }
   ],
   "source": [
    "from fractions import Fraction\n",
    "import random\n",
    " \n",
    "def decimal_to_fraction(decimal):\n",
    "    fraction = Fraction(decimal).limit_denominator()\n",
    "    return fraction.numerator, fraction.denominator\n",
    "\n",
    "(k, n) = decimal_to_fraction(kn)\n",
    "k ,n"
   ]
  },
  {
   "cell_type": "code",
   "execution_count": 1532,
   "metadata": {},
   "outputs": [
    {
     "data": {
      "text/plain": [
       "([Fraction(79, 11),\n",
       "  Fraction(99, 13),\n",
       "  Fraction(97, 12),\n",
       "  Fraction(76, 9),\n",
       "  Fraction(71, 8),\n",
       "  Fraction(65, 7),\n",
       "  Fraction(68, 7),\n",
       "  Fraction(81, 8),\n",
       "  Fraction(95, 9),\n",
       "  Fraction(11, 1),\n",
       "  Fraction(57, 5)],\n",
       " 0.06178160919540332)"
      ]
     },
     "execution_count": 1532,
     "metadata": {},
     "output_type": "execute_result"
    }
   ],
   "source": [
    "decimals = [\n",
    "    7.1810344827586166, 7.6012931034482705, 8.02155172413793, 8.441810344827584,\n",
    "    8.862068965517237, 9.282327586206891, 9.702586206896544, 10.122844827586205,\n",
    "    10.543103448275858, 10.96336206896551, 11.38362068965517\n",
    "]\n",
    "\n",
    "def find_fraction_greater_than_decimal_optimized(decimal):\n",
    "    \"\"\"\n",
    "    Find a fraction greater than the given decimal where the numerator does not exceed two digits, optimized version.\n",
    "\n",
    "    :param decimal: Decimal number to convert.\n",
    "    :return: A fraction greater than the decimal.\n",
    "    \"\"\"\n",
    "    min_difference = float('inf')\n",
    "    best_fraction = None\n",
    "\n",
    "    for numerator in range(1, 100):  # Numerator up to two digits\n",
    "        # Limit the range of the denominator based on the decimal\n",
    "        start_denominator = max(int(numerator / decimal), 1)\n",
    "        end_denominator = min(numerator, int(numerator / decimal * 2))  # Optimized range\n",
    "\n",
    "        for denominator in range(start_denominator, end_denominator + 1):\n",
    "            fraction = Fraction(numerator, denominator)\n",
    "            difference = float(fraction) - decimal\n",
    "\n",
    "            if 0 < difference < min_difference:\n",
    "                min_difference = difference\n",
    "                best_fraction = fraction\n",
    "\n",
    "            # Break if the fraction is significantly greater than the decimal\n",
    "            if difference > min_difference * 2:\n",
    "                break\n",
    "\n",
    "    return best_fraction\n",
    "\n",
    "# Convert each decimal to a fraction and calculate the error range\n",
    "optimized_fractions = []\n",
    "optimized_error_ranges = []\n",
    "for decimal in decimals:\n",
    "    fraction = find_fraction_greater_than_decimal_optimized(decimal)\n",
    "    optimized_fractions.append(fraction)\n",
    "    error_range = float(fraction) - decimal\n",
    "    optimized_error_ranges.append(error_range)\n",
    "\n",
    "max_optimized_error_range = max(optimized_error_ranges)\n",
    "optimized_fractions, max_optimized_error_range"
   ]
  },
  {
   "cell_type": "code",
   "execution_count": 1533,
   "metadata": {},
   "outputs": [
    {
     "data": {
      "text/plain": [
       "(68, 7)"
      ]
     },
     "execution_count": 1533,
     "metadata": {},
     "output_type": "execute_result"
    }
   ],
   "source": [
    "kn = find_fraction_greater_than_decimal_optimized(kn)\n",
    "k = kn.numerator\n",
    "n = kn.denominator\n",
    "k,n"
   ]
  },
  {
   "cell_type": "code",
   "execution_count": 1534,
   "metadata": {},
   "outputs": [
    {
     "data": {
      "text/plain": [
       "[60,\n",
       " 60,\n",
       " 60,\n",
       " 60,\n",
       " 60,\n",
       " 60,\n",
       " 60,\n",
       " 60,\n",
       " 60,\n",
       " 60,\n",
       " 60,\n",
       " 60,\n",
       " 60,\n",
       " 60,\n",
       " 60,\n",
       " 60,\n",
       " 60,\n",
       " 60,\n",
       " 60,\n",
       " 60,\n",
       " 60,\n",
       " 60,\n",
       " 60,\n",
       " 60,\n",
       " 60,\n",
       " 60,\n",
       " 60,\n",
       " 60,\n",
       " 60,\n",
       " 60,\n",
       " 60,\n",
       " 60,\n",
       " 60,\n",
       " 60,\n",
       " 60,\n",
       " 60,\n",
       " 60,\n",
       " 60,\n",
       " 60,\n",
       " 60,\n",
       " 60,\n",
       " 60,\n",
       " 60,\n",
       " 60,\n",
       " 60,\n",
       " 60,\n",
       " 60,\n",
       " 60,\n",
       " 60,\n",
       " 60,\n",
       " 60,\n",
       " 60,\n",
       " 60,\n",
       " 60,\n",
       " 60,\n",
       " 60,\n",
       " 60,\n",
       " 60,\n",
       " 60,\n",
       " 60,\n",
       " 60,\n",
       " 60,\n",
       " 60,\n",
       " 60,\n",
       " 60,\n",
       " 60,\n",
       " 60,\n",
       " 60]"
      ]
     },
     "execution_count": 1534,
     "metadata": {},
     "output_type": "execute_result"
    }
   ],
   "source": [
    "def generate_random_array(k, x1, x):\n",
    "    if x1 > x:\n",
    "        return []\n",
    "\n",
    "    # Initialize the array with x1\n",
    "    array = [x1] * k\n",
    "    current_sum = sum(array)\n",
    "    target_sum = k * x\n",
    "\n",
    "    # Randomly increase elements until the target sum is reached\n",
    "    while current_sum < target_sum:\n",
    "        index = random.randint(0, k - 1)\n",
    "        array[index] += 1\n",
    "        current_sum += 1\n",
    "\n",
    "    # Randomly adjust the array to meet the adjacent element condition\n",
    "    for i in range(k - 1):\n",
    "        if array[i] < x and array[i + 1] < x:\n",
    "            increase_index = i if random.random() < 0.5 else i + 1\n",
    "            array[increase_index] += 1\n",
    "            current_sum += 1\n",
    "\n",
    "            # If the current sum exceeds the target sum, randomly decrease another element\n",
    "            if current_sum > target_sum:\n",
    "                while True:\n",
    "                    decrease_index = random.randint(0, k - 1)\n",
    "                    if array[decrease_index] > x1 and decrease_index not in [i, i + 1]:\n",
    "                        array[decrease_index] -= 1\n",
    "                        break\n",
    "\n",
    "    return array\n",
    "\n",
    "# 示例调用\n",
    "nArr = generate_random_array(k, nseq_s, nseq_min) \n",
    "nArr\n",
    "\n",
    "# sum(nArr) / k"
   ]
  },
  {
   "cell_type": "code",
   "execution_count": 1535,
   "metadata": {},
   "outputs": [
    {
     "data": {
      "text/plain": [
       "[60,\n",
       " 60,\n",
       " 60,\n",
       " 60,\n",
       " 60,\n",
       " 60,\n",
       " 60,\n",
       " 60,\n",
       " 60,\n",
       " 60,\n",
       " 60,\n",
       " 60,\n",
       " 60,\n",
       " 60,\n",
       " 60,\n",
       " 60,\n",
       " 60,\n",
       " 60,\n",
       " 60,\n",
       " 60,\n",
       " 60,\n",
       " 60,\n",
       " 60,\n",
       " 60,\n",
       " 60,\n",
       " 60,\n",
       " 60,\n",
       " 60,\n",
       " 60,\n",
       " 60,\n",
       " 60,\n",
       " 60,\n",
       " 60,\n",
       " 60,\n",
       " 60,\n",
       " 60,\n",
       " 60,\n",
       " 60,\n",
       " 60,\n",
       " 60,\n",
       " 60,\n",
       " 60,\n",
       " 60,\n",
       " 60,\n",
       " 60,\n",
       " 60,\n",
       " 60,\n",
       " 60,\n",
       " 60,\n",
       " 60,\n",
       " 60,\n",
       " 60,\n",
       " 60,\n",
       " 60,\n",
       " 60,\n",
       " 60,\n",
       " 60,\n",
       " 60,\n",
       " 60,\n",
       " 60,\n",
       " 60,\n",
       " 60,\n",
       " 60,\n",
       " 60,\n",
       " 60,\n",
       " 60,\n",
       " 60,\n",
       " 60]"
      ]
     },
     "execution_count": 1535,
     "metadata": {},
     "output_type": "execute_result"
    }
   ],
   "source": [
    "import random\n",
    "\n",
    "def generate_random_array_with_average(k, x1, x):\n",
    "    if x1 > x:\n",
    "        return []\n",
    "\n",
    "    # Initialize the array with x1\n",
    "    array = [x1] * k\n",
    "    current_sum = sum(array)\n",
    "    target_sum = k * x\n",
    "\n",
    "    # Randomly increase elements until the target sum (for the average x) is reached\n",
    "    while current_sum < target_sum:\n",
    "        index = random.randint(0, k - 1)\n",
    "        array[index] += 1\n",
    "        current_sum += 1\n",
    "\n",
    "    return array\n",
    "\n",
    "# Generating random arrays with different calls\n",
    "# k = 10   # Length of the array\n",
    "# x1 = 2   # Minimum value in the array\n",
    "# x = 5    # Desired average\n",
    "\n",
    "# random_arrays = [generate_random_array_with_average(k, x1, x) for _ in range(3)]\n",
    "# random_arrays\n",
    "\n",
    "nArr = generate_random_array_with_average(k, nseq_s, nseq_min) \n",
    "nArr"
   ]
  },
  {
   "cell_type": "code",
   "execution_count": 1536,
   "metadata": {},
   "outputs": [
    {
     "name": "stdout",
     "output_type": "stream",
     "text": [
      "block,0x000000000,0x00000000003b0000,0x00004000003b0000\n",
      "block,0x000000010,0x00008000003b0000,0x0000c000003b0000\n",
      "block,0x000000020,0x00010000003b0000,0x00014000003b0000\n",
      "block,0x000000030,0x00018000003b0000,0x0001c000003b0000\n",
      "block,0x000000040,0x00020000003b0000,0x00024000003b0000\n",
      "block,0x000000050,0x00028000003b0000,0x0002c000003b0000\n",
      "block,0x000000060,0x00030000003b0000,0x00034000003b0000\n",
      "block,0x000000070,0x00038000003b0000,0x0003c000003b0000\n",
      "block,0x000000080,0x00040000003b0000,0x00044000003b0000\n",
      "block,0x000000090,0x00048000003b0000,0x0004c000003b0000\n",
      "block,0x0000000a0,0x00050000003b0000,0x00054000003b0000\n",
      "block,0x0000000b0,0x00058000003b0000,0x0005c000003b0000\n",
      "block,0x0000000c0,0x00060000003b0000,0x00064000003b0000\n",
      "block,0x0000000d0,0x00068000003b0000,0x0006c000003b0000\n",
      "block,0x0000000e0,0x00070000003b0000,0x00074000003b0000\n",
      "block,0x0000000f0,0x00078000003b0000,0x0007c000003b0000\n",
      "block,0x000000100,0x00080000003b0000,0x00084000003b0000\n",
      "block,0x000000110,0x00088000003b0000,0x0008c000003b0000\n",
      "block,0x000000120,0x00090000003b0000,0x00094000003b0000\n",
      "block,0x000000130,0x00098000003b0000,0x0009c000003b0000\n",
      "block,0x000000140,0x000a0000003b0000,0x000a4000003b0000\n",
      "block,0x000000150,0x000a8000003b0000,0x000ac000003b0000\n",
      "block,0x000000160,0x000b0000003b0000,0x000b4000003b0000\n",
      "block,0x000000170,0x000b8000003b0000,0x000bc000003b0000\n",
      "block,0x000000180,0x000c0000003b0000,0x000c4000003b0000\n",
      "block,0x000000190,0x000c8000003b0000,0x000cc000003b0000\n",
      "block,0x0000001a0,0x000d0000003b0000,0x000d4000003b0000\n",
      "block,0x0000001b0,0x000d8000003b0000,0x000dc000003b0000\n",
      "block,0x0000001c0,0x000e0000003b0000,0x000e4000003b0000\n",
      "block,0x0000001d0,0x000e8000003b0000,0x000ec000003b0000\n",
      "block,0x0000001e0,0x000f0000003b0000,0x000f4000003b0000\n",
      "block,0x0000001f0,0x000f8000003b0000,0x000fc000003b0000\n",
      "block,0x000000200,0x00100000003b0000,0x00104000003b0000\n",
      "block,0x000000210,0x00108000003b0000,0x0010c000003b0000\n",
      "block,0x000000220,0x00110000003b0000,0x00114000003b0000\n",
      "block,0x000000230,0x00118000003b0000,0x0011c000003b0000\n",
      "block,0x000000240,0x00120000003b0000,0x00124000003b0000\n",
      "block,0x000000250,0x00128000003b0000,0x0012c000003b0000\n",
      "block,0x000000260,0x00130000003b0000,0x00134000003b0000\n",
      "block,0x000000270,0x00138000003b0000,0x0013c000003b0000\n",
      "block,0x000000280,0x00140000003b0000,0x00144000003b0000\n",
      "block,0x000000290,0x00148000003b0000,0x0014c000003b0000\n",
      "block,0x0000002a0,0x00150000003b0000,0x00154000003b0000\n",
      "block,0x0000002b0,0x00158000003b0000,0x0015c000003b0000\n",
      "block,0x0000002c0,0x00160000003b0000,0x00164000003b0000\n",
      "block,0x0000002d0,0x00168000003b0000,0x0016c000003b0000\n",
      "block,0x0000002e0,0x00170000003b0000,0x00174000003b0000\n",
      "block,0x0000002f0,0x00178000003b0000,0x0017c000003b0000\n",
      "block,0x000000300,0x00180000003b0000,0x00184000003b0000\n",
      "block,0x000000310,0x00188000003b0000,0x0018c000003b0000\n",
      "block,0x000000320,0x00190000003b0000,0x00194000003b0000\n",
      "block,0x000000330,0x00198000003b0000,0x0019c000003b0000\n",
      "block,0x000000340,0x001a0000003b0000,0x001a4000003b0000\n",
      "block,0x000000350,0x001a8000003b0000,0x001ac000003b0000\n",
      "block,0x000000360,0x001b0000003b0000,0x001b4000003b0000\n",
      "block,0x000000370,0x001b8000003b0000,0x001bc000003b0000\n",
      "block,0x000000380,0x001c0000003b0000,0x001c4000003b0000\n",
      "block,0x000000390,0x001c8000003b0000,0x001cc000003b0000\n",
      "block,0x0000003a0,0x001d0000003b0000,0x001d4000003b0000\n",
      "block,0x0000003b0,0x001d8000003b0000,0x001dc000003b0000\n",
      "block,0x0000003c0,0x001e0000003b0000,0x001e4000003b0000\n",
      "block,0x0000003d0,0x001e8000003b0000,0x001ec000003b0000\n",
      "block,0x0000003e0,0x001f0000003b0000,0x001f4000003b0000\n",
      "block,0x0000003f0,0x001f8000003b0000,0x001fc000003b0000\n",
      "block,0x000000400,0x00200000003b0000,0x00204000003b0000\n",
      "block,0x000000410,0x00208000003b0000,0x0020c000003b0000\n",
      "block,0x000000420,0x00210000003b0000,0x00214000003b0000\n",
      "block,0x000000430,0x00218000003b0000,0x0021c000003b0000\n"
     ]
    }
   ],
   "source": [
    "# os.system(SPI_EXE_PATH + \" -W 0x200010000 \" + WAVEFORM_INFO_F)\n",
    "addri = int(\"0x200010000\", 16)\n",
    "for i in range(k):\n",
    "    addri += int(\"0x10000\", 16)\n",
    "    addriStr = \" -W 0x\" + format(addri, 'x') + \" \"\n",
    "    # print(addriStr)\n",
    "    # os.system(SPI_EXE_PATH + addriStr + WAVEFORM_INFO_F)\n",
    "\n",
    "# block,0x000000000,0x0000000000140000,0x0000400000140000\n",
    "def writeWave(row, len1):\n",
    "    addr =  ((len1 - 1) << 16) | (int(\"0x400000000000\", 16) * row)\n",
    "    return \"0x\" + format(addr,'0>16x')\n",
    "\n",
    "nArr1 = 2 * nArr\n",
    "\n",
    "# print(len(nArr1))\n",
    "\n",
    "cmdAddr = 0\n",
    "for i in range(k):\n",
    "    print(\"block,0x\" + format(cmdAddr, '0>9x') + \",\" + writeWave(2 * i, nArr1[2 * i]) + \",\" + writeWave(2 * i + 1, nArr1[2 * i + 1]))\n",
    "    cmdAddr += 16"
   ]
  },
  {
   "cell_type": "code",
   "execution_count": 1544,
   "metadata": {},
   "outputs": [],
   "source": [
    "# 根据式子计算出ki\n",
    "def caculate_tarr(inputNArr1, k, n):\n",
    "    inputNArr = inputNArr1.copy()\n",
    "    kArr = [0 for o in range(n)]\n",
    "    i = 0\n",
    "    for j in range(n):\n",
    "        t = trefi - trti_avr\n",
    "        while(t > 0):\n",
    "            if math.isclose(t, inputNArr[i] / sin_max, abs_tol=1e-11):\n",
    "                i = (i + 1) % k\n",
    "                if j + 1 <= n:\n",
    "                    kArr[j + 1] += 1\n",
    "                break\n",
    "            elif t > inputNArr[i] / sin_max:\n",
    "                t -= inputNArr[i] / sin_max + tsw_avr\n",
    "                kArr[j] += 1\n",
    "                # assert(i + 1 <= k)\n",
    "                i = (i + 1) % k\n",
    "            else:\n",
    "                inputNArr[i] -= t\n",
    "                break\n",
    "            \n",
    "    return kArr"
   ]
  },
  {
   "cell_type": "code",
   "execution_count": 1541,
   "metadata": {},
   "outputs": [
    {
     "data": {
      "text/plain": [
       "Fraction(-3, 1)"
      ]
     },
     "execution_count": 1541,
     "metadata": {},
     "output_type": "execute_result"
    }
   ],
   "source": [
    "knArr = [kn for i in range(n)]\n",
    "# print(kn)\n",
    "\n",
    "min1 = 0\n",
    "for m in range(len(nArr)):\n",
    "    nArrxx = nArr[m:] + nArr[:m]\n",
    "    # print(nArrxx)\n",
    "    for i in range(1, nArrxx[0]):\n",
    "        nArri = nArrxx.copy()\n",
    "        nArri[0] = i\n",
    "        nArri.append(nArrxx[0] - nArri[0])\n",
    "\n",
    "        kArr = caculate_tarr(nArri, k, n)\n",
    "        # print(kArr)\n",
    "\n",
    "        knArrSum = 0\n",
    "        kArrSum = 0\n",
    "        for j in range(len(knArr)):\n",
    "            knArrSum += knArr[j]\n",
    "            kArrSum += kArr[j]\n",
    "            min1 = min(min1, knArrSum - kArrSum)\n",
    "\n",
    "min1"
   ]
  },
  {
   "cell_type": "code",
   "execution_count": 1542,
   "metadata": {},
   "outputs": [
    {
     "data": {
      "text/plain": [
       "150.0546875"
      ]
     },
     "execution_count": 1542,
     "metadata": {},
     "output_type": "execute_result"
    }
   ],
   "source": [
    "2*tsw_max*sout + trti_max * sout + abs(min1) * tsw_max * sin_max"
   ]
  },
  {
   "cell_type": "code",
   "execution_count": 1543,
   "metadata": {},
   "outputs": [
    {
     "data": {
      "text/plain": [
       "2.15"
      ]
     },
     "execution_count": 1543,
     "metadata": {},
     "output_type": "execute_result"
    }
   ],
   "source": [
    "0.1 * tsw_max * sin_max"
   ]
  }
 ],
 "metadata": {
  "kernelspec": {
   "display_name": "base",
   "language": "python",
   "name": "python3"
  },
  "language_info": {
   "codemirror_mode": {
    "name": "ipython",
    "version": 3
   },
   "file_extension": ".py",
   "mimetype": "text/x-python",
   "name": "python",
   "nbconvert_exporter": "python",
   "pygments_lexer": "ipython3",
   "version": "3.10.9"
  },
  "orig_nbformat": 4,
  "vscode": {
   "interpreter": {
    "hash": "b09ec625f77bf4fd762565a912b97636504ad6ec901eb2d0f4cf5a7de23e1ee5"
   }
  }
 },
 "nbformat": 4,
 "nbformat_minor": 2
}
