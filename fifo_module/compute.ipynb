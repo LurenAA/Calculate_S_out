{
 "cells": [
  {
   "cell_type": "code",
   "execution_count": 1,
   "metadata": {},
   "outputs": [
    {
     "data": {
      "text/latex": [
       "$\\displaystyle 7.23784722222223$"
      ],
      "text/plain": [
       "7.23784722222223"
      ]
     },
     "execution_count": 1,
     "metadata": {},
     "output_type": "execute_result"
    }
   ],
   "source": [
    "import sympy\n",
    "import math\n",
    "\n",
    "s_out = (5 * 2)*1e9/64\n",
    "s_in = 12.8e9/64\n",
    "t_sw = 65e-9 + 7e-9\n",
    "t_rti = 325e-9 + 7e-9\n",
    "t_refi = 3.9e-6\n",
    "x = sympy.symbols(\"x\")\n",
    "f = (t_refi-t_rti-x*t_sw)/t_refi*s_in - s_out\n",
    "resx = sympy.solve(f, x)\n",
    "resx[0]"
   ]
  },
  {
   "cell_type": "code",
   "execution_count": 2,
   "metadata": {},
   "outputs": [],
   "source": [
    "def calculate_N(t_tti, t_rti, s_out, s_in):\n",
    "    return math.ceil(2* t_tti * s_out + t_tti * s_in + t_rti * s_out)\n",
    "\n",
    "def calculate_n_seq(k_n, t_rti, t_tti,s_in, t_refi = 7.8e-6):\n",
    "    return math.ceil((t_refi/k_n - t_rti/k_n - t_tti) * s_in)"
   ]
  },
  {
   "cell_type": "code",
   "execution_count": 3,
   "metadata": {},
   "outputs": [
    {
     "data": {
      "text/latex": [
       "$\\displaystyle 85$"
      ],
      "text/plain": [
       "85"
      ]
     },
     "execution_count": 3,
     "metadata": {},
     "output_type": "execute_result"
    }
   ],
   "source": [
    "calculate_n_seq(resx[0], t_rti, t_sw, s_in, t_refi = t_refi)"
   ]
  },
  {
   "cell_type": "code",
   "execution_count": 4,
   "metadata": {},
   "outputs": [
    {
     "data": {
      "text/plain": [
       "89"
      ]
     },
     "execution_count": 4,
     "metadata": {},
     "output_type": "execute_result"
    }
   ],
   "source": [
    "calculate_N(t_sw, t_rti, s_out, s_in)"
   ]
  },
  {
   "cell_type": "code",
   "execution_count": 137,
   "metadata": {},
   "outputs": [],
   "source": [
    "import sympy\n",
    "import math\n",
    "def calculate_N(t_tti, t_rti, s_out, s_in):\n",
    "    return math.ceil(2* t_tti * s_out + t_tti * s_in + t_rti * s_out)\n",
    "\n",
    "def calculate_n_seq(k_n, t_rti, t_tti,s_in, t_refi = 7.8e-6):\n",
    "    return math.ceil((t_refi/k_n - t_rti/k_n - t_tti) * s_in)\n",
    "\n",
    "def calall(s_out):\n",
    "    s_in = 12.8e9/64\n",
    "    \n",
    "    x = sympy.symbols(\"x\")\n",
    "    t_refi = 3.9e-6\n",
    "    \n",
    "    t_sw = (41.25 + 1.25 - 5 + 70)* 1e-9\n",
    "    t_rti = 260e-9 + t_sw\n",
    "    n_fifo = calculate_N(t_sw, t_rti, s_out, s_in)\n",
    "\n",
    "    t_sw = (41.25 + 1.25 - 5 + 35)* 1e-9\n",
    "    t_rti = 260e-9 + t_sw\n",
    "    f = (t_refi-t_rti-x*t_sw)/t_refi*s_in - s_out\n",
    "    resx = sympy.solve(f, x)\n",
    "    n_seq = calculate_n_seq(resx[0], t_rti, t_sw, s_in, t_refi = t_refi)\n",
    "    return [n_seq, n_fifo]"
   ]
  },
  {
   "cell_type": "code",
   "execution_count": 138,
   "metadata": {},
   "outputs": [
    {
     "name": "stdout",
     "output_type": "stream",
     "text": [
      "freq: 5.000000 GHz n_fifo: 113, n_seq: 85, n_seq - 1 hex: 0x54\n",
      "freq: 4.950000 GHz n_fifo: 112, n_seq: 80, n_seq - 1 hex: 0x4f\n",
      "freq: 4.900000 GHz n_fifo: 111, n_seq: 75, n_seq - 1 hex: 0x4a\n",
      "freq: 4.850000 GHz n_fifo: 110, n_seq: 71, n_seq - 1 hex: 0x46\n",
      "freq: 4.800000 GHz n_fifo: 109, n_seq: 67, n_seq - 1 hex: 0x42\n",
      "freq: 4.750000 GHz n_fifo: 108, n_seq: 63, n_seq - 1 hex: 0x3e\n",
      "freq: 4.700000 GHz n_fifo: 108, n_seq: 60, n_seq - 1 hex: 0x3b\n",
      "freq: 4.650000 GHz n_fifo: 107, n_seq: 56, n_seq - 1 hex: 0x37\n",
      "freq: 4.600000 GHz n_fifo: 106, n_seq: 54, n_seq - 1 hex: 0x35\n",
      "freq: 4.550000 GHz n_fifo: 105, n_seq: 51, n_seq - 1 hex: 0x32\n"
     ]
    }
   ],
   "source": [
    "\n",
    "for i in range(10):\n",
    "    res = calall(((5 - i * 0.05) * 2)*1e9/64)\n",
    "    print(\"freq: %f GHz n_fifo: %d, n_seq: %d, n_seq - 1 hex: %s\" %(5 - i * 0.05, res[1], res[0], hex(res[0] - 1)))\n",
    "    "
   ]
  },
  {
   "cell_type": "code",
   "execution_count": 1,
   "metadata": {},
   "outputs": [
    {
     "name": "stdout",
     "output_type": "stream",
     "text": [
      "深度相对误差\n",
      "5.000000 GSa/s: 6.60%\n",
      "4.950000 GSa/s: 5.66%\n",
      "4.900000 GSa/s: 4.72%\n",
      "4.850000 GSa/s: 0.00%\n",
      "4.800000 GSa/s: 5.83%\n",
      "4.750000 GSa/s: 9.09%\n",
      "4.700000 GSa/s: 9.09%\n",
      "4.650000 GSa/s: 10.31%\n",
      "4.600000 GSa/s: 10.42%\n",
      "4.550000 GSa/s: 9.38%\n"
     ]
    }
   ],
   "source": [
    "fifo = { \n",
    "    #    实验值 理论值\n",
    "    5:    [106, 113],     \n",
    "    4.95: [106, 112],\n",
    "    4.9:  [106, 111],\n",
    "    4.85: [110, 110],\n",
    "    4.8:  [103, 109],\n",
    "    4.75: [99, 108],\n",
    "    4.7:  [99, 108],\n",
    "    4.65: [97, 107],\n",
    "    4.6: [96, 106],\n",
    "    4.55: [96, 105]\n",
    "}\n",
    "\n",
    "print(\"深度相对误差\")\n",
    "for o,a in fifo.items():\n",
    "    dif = (a[1] - a[0]) / a[0]\n",
    "    print(\"%f GSa/s: %.2f%%\" % (o, dif * 100))\n"
   ]
  },
  {
   "cell_type": "code",
   "execution_count": 4,
   "metadata": {},
   "outputs": [
    {
     "name": "stdout",
     "output_type": "stream",
     "text": [
      "最小波形段长度相对误差\n",
      "5.000000 GSa/s: 1.19%\n",
      "4.950000 GSa/s: 5.26%\n",
      "4.900000 GSa/s: 8.70%\n",
      "4.850000 GSa/s: 4.41%\n",
      "4.800000 GSa/s: 11.67%\n",
      "4.750000 GSa/s: 5.00%\n",
      "4.700000 GSa/s: 1.69%\n",
      "4.650000 GSa/s: 7.69%\n",
      "4.600000 GSa/s: 3.85%\n",
      "4.550000 GSa/s: 13.33%\n"
     ]
    }
   ],
   "source": [
    "n_seq = {\n",
    "    #    实验值 理论值\n",
    "    5:    [84,85],\n",
    "    4.95: [76,80], \n",
    "    4.9:  [69,75],\n",
    "    4.85: [68,71],\n",
    "    4.8:  [60,67],\n",
    "    4.75: [60,63],\n",
    "    4.7:  [59,60],\n",
    "    4.65: [52,56],\n",
    "    4.6:  [52,54],\n",
    "    4.55: [45,51]\n",
    "}\n",
    "\n",
    "print(\"最小波形段长度相对误差\")\n",
    "for o,a in n_seq.items():\n",
    "    dif = (a[1] - a[0]) / a[0]\n",
    "    print(\"%f GSa/s: %.2f%%\" % (o, dif * 100))"
   ]
  }
 ],
 "metadata": {
  "kernelspec": {
   "display_name": "Python 3",
   "language": "python",
   "name": "python3"
  },
  "language_info": {
   "codemirror_mode": {
    "name": "ipython",
    "version": 3
   },
   "file_extension": ".py",
   "mimetype": "text/x-python",
   "name": "python",
   "nbconvert_exporter": "python",
   "pygments_lexer": "ipython3",
   "version": "3.8.2"
  },
  "orig_nbformat": 4,
  "vscode": {
   "interpreter": {
    "hash": "b901d48f394b85714db0b74d0901bd9ca776a4d1566350e73eaefaec840d839f"
   }
  }
 },
 "nbformat": 4,
 "nbformat_minor": 2
}
